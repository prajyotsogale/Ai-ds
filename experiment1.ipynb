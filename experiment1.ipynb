{
 "cells": [
  {
   "cell_type": "code",
   "execution_count": 30,
   "metadata": {},
   "outputs": [],
   "source": [
    "# import the pandas library\n",
    "import pandas as pd\n",
    "import numpy as np"
   ]
  },
  {
   "cell_type": "code",
   "execution_count": 31,
   "metadata": {},
   "outputs": [],
   "source": [
    "# read csv\n",
    "df = pd.read_csv(\"futuristic_city_traffic.csv\") "
   ]
  },
  {
   "cell_type": "code",
   "execution_count": 32,
   "metadata": {},
   "outputs": [
    {
     "name": "stdout",
     "output_type": "stream",
     "text": [
      "(664915, 11)\n"
     ]
    }
   ],
   "source": [
    "# To print no. of samples and attributes\n",
    "print(df.shape)"
   ]
  },
  {
   "cell_type": "code",
   "execution_count": 33,
   "metadata": {},
   "outputs": [
    {
     "name": "stdout",
     "output_type": "stream",
     "text": [
      "['City', 'Vehicle Type', 'Weather', 'Economic Condition', 'Day Of Week', 'Hour Of Day', 'Speed', 'Is Peak Hour', 'Random Event Occurred', 'Energy Consumption', 'Traffic Density']\n"
     ]
    }
   ],
   "source": [
    "# getting the columns of the dataset\n",
    "columns = list(df.columns)\n",
    "print(columns)"
   ]
  },
  {
   "cell_type": "code",
   "execution_count": 34,
   "metadata": {},
   "outputs": [
    {
     "name": "stdout",
     "output_type": "stream",
     "text": [
      "           City        Vehicle Type      Weather Economic Condition  \\\n",
      "0  SolarisVille               Drone        Snowy             Stable   \n",
      "1      AquaCity          Flying Car  Solar Flare          Recession   \n",
      "2     Neuroburg  Autonomous Vehicle  Solar Flare          Recession   \n",
      "3     Ecoopolis               Drone        Clear            Booming   \n",
      "4      AquaCity  Autonomous Vehicle  Solar Flare             Stable   \n",
      "\n",
      "  Day Of Week  Hour Of Day     Speed  Is Peak Hour  Random Event Occurred  \\\n",
      "0      Sunday          NaN   29.4268           0.0                    0.0   \n",
      "1   Wednesday          NaN  118.8000           0.0                    0.0   \n",
      "2   Wednesday         16.0  100.3904           0.0                    0.0   \n",
      "3    Thursday          8.0   76.8000           1.0                    0.0   \n",
      "4    Saturday         16.0   45.2176           0.0                    0.0   \n",
      "\n",
      "   Energy Consumption  Traffic Density  \n",
      "0             14.7134           0.5241  \n",
      "1            143.5682           0.3208  \n",
      "2             91.2640           0.0415  \n",
      "3             46.0753           0.1811  \n",
      "4             40.1934           0.4544  \n"
     ]
    }
   ],
   "source": [
    "# To print first five samples\n",
    "print(df.head()) "
   ]
  },
  {
   "cell_type": "code",
   "execution_count": 35,
   "metadata": {},
   "outputs": [
    {
     "name": "stdout",
     "output_type": "stream",
     "text": [
      "         Hour Of Day          Speed   Is Peak Hour  Random Event Occurred  \\\n",
      "count  664911.000000  664912.000000  664912.000000          664914.000000   \n",
      "mean       11.511062      59.935981       0.154470               0.050109   \n",
      "std         6.918249      26.626771       0.361399               0.218169   \n",
      "min         0.000000       6.693400       0.000000               0.000000   \n",
      "25%         6.000000      37.522375       0.000000               0.000000   \n",
      "50%        12.000000      58.494350       0.000000               0.000000   \n",
      "75%        18.000000      80.537250       0.000000               0.000000   \n",
      "max        23.000000     163.088600       1.000000               1.000000   \n",
      "\n",
      "       Energy Consumption  Traffic Density  \n",
      "count       664912.000000    664912.000000  \n",
      "mean            49.458875         0.277036  \n",
      "std             25.265618         0.219091  \n",
      "min              4.929600         0.006000  \n",
      "25%             29.232800         0.105900  \n",
      "50%             45.836750         0.218500  \n",
      "75%             65.917200         0.396200  \n",
      "max            189.948900         3.119500  \n"
     ]
    }
   ],
   "source": [
    "#Describing dataset \n",
    "print(df.describe()) "
   ]
  },
  {
   "cell_type": "code",
   "execution_count": 36,
   "metadata": {},
   "outputs": [
    {
     "name": "stdout",
     "output_type": "stream",
     "text": [
      "City                     0\n",
      "Vehicle Type             0\n",
      "Weather                  1\n",
      "Economic Condition       1\n",
      "Day Of Week              1\n",
      "Hour Of Day              4\n",
      "Speed                    3\n",
      "Is Peak Hour             3\n",
      "Random Event Occurred    1\n",
      "Energy Consumption       3\n",
      "Traffic Density          3\n",
      "dtype: int64\n",
      "Missing values distribution: \n",
      "City                     0.000000\n",
      "Vehicle Type             0.000000\n",
      "Weather                  0.000002\n",
      "Economic Condition       0.000002\n",
      "Day Of Week              0.000002\n",
      "Hour Of Day              0.000006\n",
      "Speed                    0.000005\n",
      "Is Peak Hour             0.000005\n",
      "Random Event Occurred    0.000002\n",
      "Energy Consumption       0.000005\n",
      "Traffic Density          0.000005\n",
      "dtype: float64\n"
     ]
    }
   ],
   "source": [
    "#New dataframe \n",
    "new_df = df\n",
    "#new_df.isnull()\n",
    "#Checking for null values \n",
    "print(new_df.isnull().sum()) \n",
    "print(\"Missing values distribution: \")\n",
    "print(new_df.isnull().mean())\n",
    "#print(new_df.shape) \n",
    "#new_df.duplicated()\n"
   ]
  },
  {
   "cell_type": "code",
   "execution_count": 38,
   "metadata": {},
   "outputs": [
    {
     "name": "stdout",
     "output_type": "stream",
     "text": [
      "False\n",
      "0         False\n",
      "1         False\n",
      "2         False\n",
      "3         False\n",
      "4         False\n",
      "          ...  \n",
      "664910    False\n",
      "664911    False\n",
      "664912    False\n",
      "664913    False\n",
      "664914    False\n",
      "Length: 664915, dtype: bool\n",
      "(664915, 11)\n"
     ]
    }
   ],
   "source": [
    "# #Checking for duplicates\n",
    "print(new_df.duplicated().any()) \n",
    "print(new_df.duplicated())\n",
    "print(new_df.shape) "
   ]
  },
  {
   "cell_type": "code",
   "execution_count": 39,
   "metadata": {},
   "outputs": [
    {
     "name": "stdout",
     "output_type": "stream",
     "text": [
      "Column datatypes: \n",
      "City                      object\n",
      "Vehicle Type              object\n",
      "Weather                   object\n",
      "Economic Condition        object\n",
      "Day Of Week               object\n",
      "Hour Of Day              float64\n",
      "Speed                    float64\n",
      "Is Peak Hour             float64\n",
      "Random Event Occurred    float64\n",
      "Energy Consumption       float64\n",
      "Traffic Density          float64\n",
      "dtype: object\n"
     ]
    }
   ],
   "source": [
    "print(\"Column datatypes: \")\n",
    "print(new_df.dtypes)"
   ]
  },
  {
   "cell_type": "code",
   "execution_count": 40,
   "metadata": {},
   "outputs": [
    {
     "name": "stdout",
     "output_type": "stream",
     "text": [
      "['Drone' 'Flying Car' 'Autonomous Vehicle' 'Car']\n"
     ]
    }
   ],
   "source": [
    "#Finding unique values in \"Vehicle Type\"\n",
    "print(new_df[\"Vehicle Type\"].unique())"
   ]
  },
  {
   "cell_type": "code",
   "execution_count": 41,
   "metadata": {},
   "outputs": [
    {
     "name": "stdout",
     "output_type": "stream",
     "text": [
      "           City Vehicle Type      Weather Economic Condition Day Of Week  \\\n",
      "0  SolarisVille            0        Snowy             Stable      Sunday   \n",
      "1      AquaCity            1  Solar Flare          Recession   Wednesday   \n",
      "2     Neuroburg            2  Solar Flare          Recession   Wednesday   \n",
      "3     Ecoopolis            0        Clear            Booming    Thursday   \n",
      "4      AquaCity            2  Solar Flare             Stable    Saturday   \n",
      "\n",
      "   Hour Of Day     Speed  Is Peak Hour  Random Event Occurred  \\\n",
      "0          NaN   29.4268           0.0                    0.0   \n",
      "1          NaN  118.8000           0.0                    0.0   \n",
      "2         16.0  100.3904           0.0                    0.0   \n",
      "3          8.0   76.8000           1.0                    0.0   \n",
      "4         16.0   45.2176           0.0                    0.0   \n",
      "\n",
      "   Energy Consumption  Traffic Density  \n",
      "0             14.7134           0.5241  \n",
      "1            143.5682           0.3208  \n",
      "2             91.2640           0.0415  \n",
      "3             46.0753           0.1811  \n",
      "4             40.1934           0.4544  \n",
      "(664915, 11)\n"
     ]
    },
    {
     "name": "stderr",
     "output_type": "stream",
     "text": [
      "C:\\Users\\student\\AppData\\Local\\Temp\\ipykernel_7956\\676945800.py:2: FutureWarning: A value is trying to be set on a copy of a DataFrame or Series through chained assignment using an inplace method.\n",
      "The behavior will change in pandas 3.0. This inplace method will never work because the intermediate object on which we are setting values always behaves as a copy.\n",
      "\n",
      "For example, when doing 'df[col].method(value, inplace=True)', try using 'df.method({col: value}, inplace=True)' or df[col] = df[col].method(value) instead, to perform the operation inplace on the original object.\n",
      "\n",
      "\n",
      "  new_df[\"Vehicle Type\"].replace({\"Drone\":\"0\", \"Flying Car\":\"1\", \"Autonomous Vehicle\":\"2\", \"Car\":\"3\",\"A\":\"2\"}, inplace = True)\n"
     ]
    }
   ],
   "source": [
    "#Replacing string values with integer\n",
    "new_df[\"Vehicle Type\"].replace({\"Drone\":\"0\", \"Flying Car\":\"1\", \"Autonomous Vehicle\":\"2\", \"Car\":\"3\",\"A\":\"2\"}, inplace = True)\n",
    "print(new_df.head())\n",
    "print(new_df.shape) "
   ]
  },
  {
   "cell_type": "code",
   "execution_count": 42,
   "metadata": {},
   "outputs": [
    {
     "name": "stdout",
     "output_type": "stream",
     "text": [
      "['Snowy' 'Solar Flare' 'Clear' 'Rainy' 'Electromagnetic Storm' nan]\n"
     ]
    }
   ],
   "source": [
    "#Finding unique values in \"Region\"\n",
    "print(new_df[\"Weather\"].unique())"
   ]
  },
  {
   "cell_type": "code",
   "execution_count": 43,
   "metadata": {},
   "outputs": [
    {
     "name": "stdout",
     "output_type": "stream",
     "text": [
      "           City Vehicle Type Weather Economic Condition Day Of Week  \\\n",
      "0  SolarisVille            0       0             Stable      Sunday   \n",
      "1      AquaCity            1       1          Recession   Wednesday   \n",
      "2     Neuroburg            2       1          Recession   Wednesday   \n",
      "3     Ecoopolis            0       2            Booming    Thursday   \n",
      "4      AquaCity            2       1             Stable    Saturday   \n",
      "\n",
      "   Hour Of Day     Speed  Is Peak Hour  Random Event Occurred  \\\n",
      "0          NaN   29.4268           0.0                    0.0   \n",
      "1          NaN  118.8000           0.0                    0.0   \n",
      "2         16.0  100.3904           0.0                    0.0   \n",
      "3          8.0   76.8000           1.0                    0.0   \n",
      "4         16.0   45.2176           0.0                    0.0   \n",
      "\n",
      "   Energy Consumption  Traffic Density  \n",
      "0             14.7134           0.5241  \n",
      "1            143.5682           0.3208  \n",
      "2             91.2640           0.0415  \n",
      "3             46.0753           0.1811  \n",
      "4             40.1934           0.4544  \n"
     ]
    },
    {
     "name": "stderr",
     "output_type": "stream",
     "text": [
      "C:\\Users\\student\\AppData\\Local\\Temp\\ipykernel_7956\\488376989.py:2: FutureWarning: A value is trying to be set on a copy of a DataFrame or Series through chained assignment using an inplace method.\n",
      "The behavior will change in pandas 3.0. This inplace method will never work because the intermediate object on which we are setting values always behaves as a copy.\n",
      "\n",
      "For example, when doing 'df[col].method(value, inplace=True)', try using 'df.method({col: value}, inplace=True)' or df[col] = df[col].method(value) instead, to perform the operation inplace on the original object.\n",
      "\n",
      "\n",
      "  new_df[\"Weather\"].replace({\"Snowy\":\"0\", \"Solar Flare\":\"1\", \"Clear\":\"2\", \"Rainy\":\"3\",\"Electromagnetic Storm\":\"2\"}, inplace = True)\n"
     ]
    }
   ],
   "source": [
    "#Replacing string values with integer\n",
    "new_df[\"Weather\"].replace({\"Snowy\":\"0\", \"Solar Flare\":\"1\", \"Clear\":\"2\", \"Rainy\":\"3\",\"Electromagnetic Storm\":\"2\"}, inplace = True)\n",
    "print(new_df.head())"
   ]
  },
  {
   "cell_type": "code",
   "execution_count": 44,
   "metadata": {},
   "outputs": [
    {
     "name": "stdout",
     "output_type": "stream",
     "text": [
      "           City Vehicle Type Weather Economic Condition Day Of Week  \\\n",
      "0  SolarisVille            0       0                  0      Sunday   \n",
      "1      AquaCity            1       1                  1   Wednesday   \n",
      "2     Neuroburg            2       1                  1   Wednesday   \n",
      "3     Ecoopolis            0       2                  3    Thursday   \n",
      "4      AquaCity            2       1                  0    Saturday   \n",
      "\n",
      "   Hour Of Day     Speed  Is Peak Hour  Random Event Occurred  \\\n",
      "0          NaN   29.4268           0.0                    0.0   \n",
      "1          NaN  118.8000           0.0                    0.0   \n",
      "2         16.0  100.3904           0.0                    0.0   \n",
      "3          8.0   76.8000           1.0                    0.0   \n",
      "4         16.0   45.2176           0.0                    0.0   \n",
      "\n",
      "   Energy Consumption  Traffic Density  \n",
      "0             14.7134           0.5241  \n",
      "1            143.5682           0.3208  \n",
      "2             91.2640           0.0415  \n",
      "3             46.0753           0.1811  \n",
      "4             40.1934           0.4544  \n"
     ]
    },
    {
     "name": "stderr",
     "output_type": "stream",
     "text": [
      "C:\\Users\\student\\AppData\\Local\\Temp\\ipykernel_7956\\2204731181.py:2: FutureWarning: A value is trying to be set on a copy of a DataFrame or Series through chained assignment using an inplace method.\n",
      "The behavior will change in pandas 3.0. This inplace method will never work because the intermediate object on which we are setting values always behaves as a copy.\n",
      "\n",
      "For example, when doing 'df[col].method(value, inplace=True)', try using 'df.method({col: value}, inplace=True)' or df[col] = df[col].method(value) instead, to perform the operation inplace on the original object.\n",
      "\n",
      "\n",
      "  new_df[\"Economic Condition\"].replace({\"Stable\":\"0\", \"Recession\":\"1\", \"Clear\":\"2\", \"Booming\":\"3\"}, inplace = True)\n"
     ]
    }
   ],
   "source": [
    "#Replacing string values with integer\n",
    "new_df[\"Economic Condition\"].replace({\"Stable\":\"0\", \"Recession\":\"1\", \"Clear\":\"2\", \"Booming\":\"3\"}, inplace = True)\n",
    "print(new_df.head())"
   ]
  },
  {
   "cell_type": "code",
   "execution_count": 45,
   "metadata": {},
   "outputs": [
    {
     "name": "stdout",
     "output_type": "stream",
     "text": [
      "['Sunday' 'Wednesday' 'Thursday' 'Saturday' 'Monday' 'Friday' 'Tuesday'\n",
      " nan]\n"
     ]
    }
   ],
   "source": [
    "#Finding unique values in \"Region\"\n",
    "print(new_df[\"Day Of Week\"].unique())"
   ]
  },
  {
   "cell_type": "code",
   "execution_count": 46,
   "metadata": {},
   "outputs": [
    {
     "name": "stdout",
     "output_type": "stream",
     "text": [
      "           City Vehicle Type Weather Economic Condition Day Of Week  \\\n",
      "0  SolarisVille            0       0                  0           0   \n",
      "1      AquaCity            1       1                  1           3   \n",
      "2     Neuroburg            2       1                  1           3   \n",
      "3     Ecoopolis            0       2                  3           4   \n",
      "4      AquaCity            2       1                  0           6   \n",
      "\n",
      "   Hour Of Day     Speed  Is Peak Hour  Random Event Occurred  \\\n",
      "0          NaN   29.4268           0.0                    0.0   \n",
      "1          NaN  118.8000           0.0                    0.0   \n",
      "2         16.0  100.3904           0.0                    0.0   \n",
      "3          8.0   76.8000           1.0                    0.0   \n",
      "4         16.0   45.2176           0.0                    0.0   \n",
      "\n",
      "   Energy Consumption  Traffic Density  \n",
      "0             14.7134           0.5241  \n",
      "1            143.5682           0.3208  \n",
      "2             91.2640           0.0415  \n",
      "3             46.0753           0.1811  \n",
      "4             40.1934           0.4544  \n"
     ]
    },
    {
     "name": "stderr",
     "output_type": "stream",
     "text": [
      "C:\\Users\\student\\AppData\\Local\\Temp\\ipykernel_7956\\1686090749.py:2: FutureWarning: A value is trying to be set on a copy of a DataFrame or Series through chained assignment using an inplace method.\n",
      "The behavior will change in pandas 3.0. This inplace method will never work because the intermediate object on which we are setting values always behaves as a copy.\n",
      "\n",
      "For example, when doing 'df[col].method(value, inplace=True)', try using 'df.method({col: value}, inplace=True)' or df[col] = df[col].method(value) instead, to perform the operation inplace on the original object.\n",
      "\n",
      "\n",
      "  new_df[\"Day Of Week\"].replace({\"Sunday\":\"0\", \"Monday\":\"1\", \"Tuesday\":\"2\", \"Wednesday\":\"3\", \"Thursday\":\"4\", \"Friday\":\"5\", \"Saturday\":\"6\"}, inplace = True)\n"
     ]
    }
   ],
   "source": [
    "#Replacing string values with integer\n",
    "new_df[\"Day Of Week\"].replace({\"Sunday\":\"0\", \"Monday\":\"1\", \"Tuesday\":\"2\", \"Wednesday\":\"3\", \"Thursday\":\"4\", \"Friday\":\"5\", \"Saturday\":\"6\"}, inplace = True)\n",
    "print(new_df.head())"
   ]
  },
  {
   "cell_type": "code",
   "execution_count": 47,
   "metadata": {},
   "outputs": [
    {
     "name": "stdout",
     "output_type": "stream",
     "text": [
      "(664915, 11)\n",
      "           City Vehicle Type Weather Economic Condition Day Of Week  \\\n",
      "0  SolarisVille            0       0                  0           0   \n",
      "1      AquaCity            1       1                  1           3   \n",
      "2     Neuroburg            2       1                  1           3   \n",
      "3     Ecoopolis            0       2                  3           4   \n",
      "4      AquaCity            2       1                  0           6   \n",
      "\n",
      "   Hour Of Day     Speed  Is Peak Hour  Random Event Occurred  \\\n",
      "0          NaN   29.4268           0.0                    0.0   \n",
      "1          NaN  118.8000           0.0                    0.0   \n",
      "2         16.0  100.3904           0.0                    0.0   \n",
      "3          8.0   76.8000           1.0                    0.0   \n",
      "4         16.0   45.2176           0.0                    0.0   \n",
      "\n",
      "   Energy Consumption  Traffic Density  \n",
      "0             14.7134           0.5241  \n",
      "1            143.5682           0.3208  \n",
      "2             91.2640           0.0415  \n",
      "3             46.0753           0.1811  \n",
      "4             40.1934           0.4544  \n"
     ]
    }
   ],
   "source": [
    "#Describing data after preprocessing \n",
    "print(new_df.shape) \n",
    "print(new_df.head())"
   ]
  },
  {
   "cell_type": "code",
   "execution_count": 49,
   "metadata": {},
   "outputs": [
    {
     "name": "stdout",
     "output_type": "stream",
     "text": [
      "               City Vehicle Type Weather Economic Condition Day Of Week  \\\n",
      "2         Neuroburg            2       1                  1           3   \n",
      "3         Ecoopolis            0       2                  3           4   \n",
      "4          AquaCity            2       1                  0           6   \n",
      "5         TechHaven            2       0                  1           4   \n",
      "6         Ecoopolis            2       3                  1           1   \n",
      "...             ...          ...     ...                ...         ...   \n",
      "664909    TechHaven            0       2                  1           6   \n",
      "664910     AquaCity            2       1                  3           0   \n",
      "664911  MetropolisX            2       1                  0           1   \n",
      "664912    TechHaven            0       3                  0           6   \n",
      "664913    Neuroburg            2       1                  1           0   \n",
      "\n",
      "        Hour Of Day     Speed  Is Peak Hour  Random Event Occurred  \\\n",
      "2              16.0  100.3904           0.0                    0.0   \n",
      "3               8.0   76.8000           1.0                    0.0   \n",
      "4              16.0   45.2176           0.0                    0.0   \n",
      "5              20.0   30.5179           0.0                    0.0   \n",
      "6              21.0   43.9222           0.0                    0.0   \n",
      "...             ...       ...           ...                    ...   \n",
      "664909          2.0   34.2890           0.0                    0.0   \n",
      "664910         11.0   93.5993           0.0                    0.0   \n",
      "664911          1.0  140.2007           0.0                    0.0   \n",
      "664912         15.0   29.2714           0.0                    0.0   \n",
      "664913          1.0  114.8039           0.0                    0.0   \n",
      "\n",
      "        Energy Consumption  Traffic Density  \n",
      "2                  91.2640           0.0415  \n",
      "3                  46.0753           0.1811  \n",
      "4                  40.1934           0.4544  \n",
      "5                  37.5562           0.0843  \n",
      "6                  39.0420           0.0293  \n",
      "...                    ...              ...  \n",
      "664909             19.4824           0.0978  \n",
      "664910             74.8794           0.3706  \n",
      "664911            112.1605           0.7564  \n",
      "664912             17.5068           0.0918  \n",
      "664913            104.3672           0.0507  \n",
      "\n",
      "[664903 rows x 11 columns]\n"
     ]
    }
   ],
   "source": [
    "#eliminate null values\n",
    "new_df.dropna(inplace=True)\n",
    "#eliminate duplicate values\n",
    "new_df.drop_duplicates(inplace=True)\n",
    "print(new_df)"
   ]
  },
  {
   "cell_type": "code",
   "execution_count": 50,
   "metadata": {},
   "outputs": [
    {
     "name": "stdout",
     "output_type": "stream",
     "text": [
      "City                     0\n",
      "Vehicle Type             0\n",
      "Weather                  0\n",
      "Economic Condition       0\n",
      "Day Of Week              0\n",
      "Hour Of Day              0\n",
      "Speed                    0\n",
      "Is Peak Hour             0\n",
      "Random Event Occurred    0\n",
      "Energy Consumption       0\n",
      "Traffic Density          0\n",
      "dtype: int64\n",
      "Missing values distribution\n",
      "City                     0.0\n",
      "Vehicle Type             0.0\n",
      "Weather                  0.0\n",
      "Economic Condition       0.0\n",
      "Day Of Week              0.0\n",
      "Hour Of Day              0.0\n",
      "Speed                    0.0\n",
      "Is Peak Hour             0.0\n",
      "Random Event Occurred    0.0\n",
      "Energy Consumption       0.0\n",
      "Traffic Density          0.0\n",
      "dtype: float64\n"
     ]
    }
   ],
   "source": [
    "print(new_df.isnull().sum())\n",
    "print(\"Missing values distribution\")\n",
    "print(new_df.isnull().mean())"
   ]
  },
  {
   "cell_type": "code",
   "execution_count": 51,
   "metadata": {},
   "outputs": [],
   "source": [
    "new_df.to_csv(\"futuristic_city_traffic.csv\",index=False)"
   ]
  }
 ],
 "metadata": {
  "kernelspec": {
   "display_name": "Python 3",
   "language": "python",
   "name": "python3"
  },
  "language_info": {
   "codemirror_mode": {
    "name": "ipython",
    "version": 3
   },
   "file_extension": ".py",
   "mimetype": "text/x-python",
   "name": "python",
   "nbconvert_exporter": "python",
   "pygments_lexer": "ipython3",
   "version": "3.11.3"
  }
 },
 "nbformat": 4,
 "nbformat_minor": 2
}
