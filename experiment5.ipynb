{
  "nbformat": 4,
  "nbformat_minor": 0,
  "metadata": {
    "colab": {
      "provenance": []
    },
    "kernelspec": {
      "name": "python3",
      "display_name": "Python 3"
    },
    "language_info": {
      "name": "python"
    }
  },
  "cells": [
    {
      "cell_type": "code",
      "execution_count": 1,
      "metadata": {
        "id": "J83UQb2_ezyy"
      },
      "outputs": [],
      "source": [
        "#import pandas\n",
        "import pandas as pd\n",
        "#import numpy\n",
        "import numpy as np\n",
        "#import matplotlib\n",
        "import matplotlib.pyplot as plt\n",
        "#import seaborn\n",
        "import seaborn as sns"
      ]
    },
    {
      "cell_type": "code",
      "source": [
        "# use pandas to import csv file\n",
        "df = pd.read_csv(\"futuristic_city_traffic.csv\")\n",
        "# too see max columns\n",
        "pd.set_option('display.max_columns',None)\n",
        "# print dataframe\n",
        "df"
      ],
      "metadata": {
        "colab": {
          "base_uri": "https://localhost:8080/",
          "height": 458
        },
        "id": "uifvTMO-e_KU",
        "outputId": "8afaeac7-4ce8-4b90-f336-849b609b4a57"
      },
      "execution_count": 2,
      "outputs": [
        {
          "output_type": "execute_result",
          "data": {
            "text/plain": [
              "              City  Vehicle Type  Weather  Economic Condition  Day Of Week  \\\n",
              "0        Neuroburg           2.0      1.0                 1.0          3.0   \n",
              "1        Ecoopolis           0.0      2.0                 3.0          4.0   \n",
              "2         AquaCity           2.0      1.0                 0.0          6.0   \n",
              "3        TechHaven           2.0      0.0                 1.0          4.0   \n",
              "4        Ecoopolis           2.0      3.0                 1.0          1.0   \n",
              "...            ...           ...      ...                 ...          ...   \n",
              "57287    Ecoopolis           2.0      3.0                 3.0          6.0   \n",
              "57288    Ecoopolis           0.0      0.0                 1.0          3.0   \n",
              "57289    Neuroburg           2.0      0.0                 1.0          1.0   \n",
              "57290  MetropolisX           2.0      0.0                 0.0          6.0   \n",
              "57291     Metropol           NaN      NaN                 NaN          NaN   \n",
              "\n",
              "       Hour Of Day     Speed  Is Peak Hour  Random Event Occurred  \\\n",
              "0             16.0  100.3904           0.0                    0.0   \n",
              "1              8.0   76.8000           1.0                    0.0   \n",
              "2             16.0   45.2176           0.0                    0.0   \n",
              "3             20.0   30.5179           0.0                    0.0   \n",
              "4             21.0   43.9222           0.0                    0.0   \n",
              "...            ...       ...           ...                    ...   \n",
              "57287         15.0   59.4936           0.0                    0.0   \n",
              "57288         18.0   76.0320           1.0                    1.0   \n",
              "57289          3.0   88.8519           0.0                    0.0   \n",
              "57290          7.0  108.3456           0.0                    0.0   \n",
              "57291          NaN       NaN           NaN                    NaN   \n",
              "\n",
              "       Energy Consumption  Traffic Density  \n",
              "0                 91.2640           0.0415  \n",
              "1                 46.0753           0.1811  \n",
              "2                 40.1934           0.4544  \n",
              "3                 37.5562           0.0843  \n",
              "4                 39.0420           0.0293  \n",
              "...                   ...              ...  \n",
              "57287             47.5949           0.1498  \n",
              "57288             59.4706           0.1545  \n",
              "57289             85.0257           0.0426  \n",
              "57290            110.8592           0.6207  \n",
              "57291                 NaN              NaN  \n",
              "\n",
              "[57292 rows x 11 columns]"
            ],
            "text/html": [
              "\n",
              "  <div id=\"df-f4a9ed48-0ffe-430c-9276-d5a655eee04a\" class=\"colab-df-container\">\n",
              "    <div>\n",
              "<style scoped>\n",
              "    .dataframe tbody tr th:only-of-type {\n",
              "        vertical-align: middle;\n",
              "    }\n",
              "\n",
              "    .dataframe tbody tr th {\n",
              "        vertical-align: top;\n",
              "    }\n",
              "\n",
              "    .dataframe thead th {\n",
              "        text-align: right;\n",
              "    }\n",
              "</style>\n",
              "<table border=\"1\" class=\"dataframe\">\n",
              "  <thead>\n",
              "    <tr style=\"text-align: right;\">\n",
              "      <th></th>\n",
              "      <th>City</th>\n",
              "      <th>Vehicle Type</th>\n",
              "      <th>Weather</th>\n",
              "      <th>Economic Condition</th>\n",
              "      <th>Day Of Week</th>\n",
              "      <th>Hour Of Day</th>\n",
              "      <th>Speed</th>\n",
              "      <th>Is Peak Hour</th>\n",
              "      <th>Random Event Occurred</th>\n",
              "      <th>Energy Consumption</th>\n",
              "      <th>Traffic Density</th>\n",
              "    </tr>\n",
              "  </thead>\n",
              "  <tbody>\n",
              "    <tr>\n",
              "      <th>0</th>\n",
              "      <td>Neuroburg</td>\n",
              "      <td>2.0</td>\n",
              "      <td>1.0</td>\n",
              "      <td>1.0</td>\n",
              "      <td>3.0</td>\n",
              "      <td>16.0</td>\n",
              "      <td>100.3904</td>\n",
              "      <td>0.0</td>\n",
              "      <td>0.0</td>\n",
              "      <td>91.2640</td>\n",
              "      <td>0.0415</td>\n",
              "    </tr>\n",
              "    <tr>\n",
              "      <th>1</th>\n",
              "      <td>Ecoopolis</td>\n",
              "      <td>0.0</td>\n",
              "      <td>2.0</td>\n",
              "      <td>3.0</td>\n",
              "      <td>4.0</td>\n",
              "      <td>8.0</td>\n",
              "      <td>76.8000</td>\n",
              "      <td>1.0</td>\n",
              "      <td>0.0</td>\n",
              "      <td>46.0753</td>\n",
              "      <td>0.1811</td>\n",
              "    </tr>\n",
              "    <tr>\n",
              "      <th>2</th>\n",
              "      <td>AquaCity</td>\n",
              "      <td>2.0</td>\n",
              "      <td>1.0</td>\n",
              "      <td>0.0</td>\n",
              "      <td>6.0</td>\n",
              "      <td>16.0</td>\n",
              "      <td>45.2176</td>\n",
              "      <td>0.0</td>\n",
              "      <td>0.0</td>\n",
              "      <td>40.1934</td>\n",
              "      <td>0.4544</td>\n",
              "    </tr>\n",
              "    <tr>\n",
              "      <th>3</th>\n",
              "      <td>TechHaven</td>\n",
              "      <td>2.0</td>\n",
              "      <td>0.0</td>\n",
              "      <td>1.0</td>\n",
              "      <td>4.0</td>\n",
              "      <td>20.0</td>\n",
              "      <td>30.5179</td>\n",
              "      <td>0.0</td>\n",
              "      <td>0.0</td>\n",
              "      <td>37.5562</td>\n",
              "      <td>0.0843</td>\n",
              "    </tr>\n",
              "    <tr>\n",
              "      <th>4</th>\n",
              "      <td>Ecoopolis</td>\n",
              "      <td>2.0</td>\n",
              "      <td>3.0</td>\n",
              "      <td>1.0</td>\n",
              "      <td>1.0</td>\n",
              "      <td>21.0</td>\n",
              "      <td>43.9222</td>\n",
              "      <td>0.0</td>\n",
              "      <td>0.0</td>\n",
              "      <td>39.0420</td>\n",
              "      <td>0.0293</td>\n",
              "    </tr>\n",
              "    <tr>\n",
              "      <th>...</th>\n",
              "      <td>...</td>\n",
              "      <td>...</td>\n",
              "      <td>...</td>\n",
              "      <td>...</td>\n",
              "      <td>...</td>\n",
              "      <td>...</td>\n",
              "      <td>...</td>\n",
              "      <td>...</td>\n",
              "      <td>...</td>\n",
              "      <td>...</td>\n",
              "      <td>...</td>\n",
              "    </tr>\n",
              "    <tr>\n",
              "      <th>57287</th>\n",
              "      <td>Ecoopolis</td>\n",
              "      <td>2.0</td>\n",
              "      <td>3.0</td>\n",
              "      <td>3.0</td>\n",
              "      <td>6.0</td>\n",
              "      <td>15.0</td>\n",
              "      <td>59.4936</td>\n",
              "      <td>0.0</td>\n",
              "      <td>0.0</td>\n",
              "      <td>47.5949</td>\n",
              "      <td>0.1498</td>\n",
              "    </tr>\n",
              "    <tr>\n",
              "      <th>57288</th>\n",
              "      <td>Ecoopolis</td>\n",
              "      <td>0.0</td>\n",
              "      <td>0.0</td>\n",
              "      <td>1.0</td>\n",
              "      <td>3.0</td>\n",
              "      <td>18.0</td>\n",
              "      <td>76.0320</td>\n",
              "      <td>1.0</td>\n",
              "      <td>1.0</td>\n",
              "      <td>59.4706</td>\n",
              "      <td>0.1545</td>\n",
              "    </tr>\n",
              "    <tr>\n",
              "      <th>57289</th>\n",
              "      <td>Neuroburg</td>\n",
              "      <td>2.0</td>\n",
              "      <td>0.0</td>\n",
              "      <td>1.0</td>\n",
              "      <td>1.0</td>\n",
              "      <td>3.0</td>\n",
              "      <td>88.8519</td>\n",
              "      <td>0.0</td>\n",
              "      <td>0.0</td>\n",
              "      <td>85.0257</td>\n",
              "      <td>0.0426</td>\n",
              "    </tr>\n",
              "    <tr>\n",
              "      <th>57290</th>\n",
              "      <td>MetropolisX</td>\n",
              "      <td>2.0</td>\n",
              "      <td>0.0</td>\n",
              "      <td>0.0</td>\n",
              "      <td>6.0</td>\n",
              "      <td>7.0</td>\n",
              "      <td>108.3456</td>\n",
              "      <td>0.0</td>\n",
              "      <td>0.0</td>\n",
              "      <td>110.8592</td>\n",
              "      <td>0.6207</td>\n",
              "    </tr>\n",
              "    <tr>\n",
              "      <th>57291</th>\n",
              "      <td>Metropol</td>\n",
              "      <td>NaN</td>\n",
              "      <td>NaN</td>\n",
              "      <td>NaN</td>\n",
              "      <td>NaN</td>\n",
              "      <td>NaN</td>\n",
              "      <td>NaN</td>\n",
              "      <td>NaN</td>\n",
              "      <td>NaN</td>\n",
              "      <td>NaN</td>\n",
              "      <td>NaN</td>\n",
              "    </tr>\n",
              "  </tbody>\n",
              "</table>\n",
              "<p>57292 rows × 11 columns</p>\n",
              "</div>\n",
              "    <div class=\"colab-df-buttons\">\n",
              "\n",
              "  <div class=\"colab-df-container\">\n",
              "    <button class=\"colab-df-convert\" onclick=\"convertToInteractive('df-f4a9ed48-0ffe-430c-9276-d5a655eee04a')\"\n",
              "            title=\"Convert this dataframe to an interactive table.\"\n",
              "            style=\"display:none;\">\n",
              "\n",
              "  <svg xmlns=\"http://www.w3.org/2000/svg\" height=\"24px\" viewBox=\"0 -960 960 960\">\n",
              "    <path d=\"M120-120v-720h720v720H120Zm60-500h600v-160H180v160Zm220 220h160v-160H400v160Zm0 220h160v-160H400v160ZM180-400h160v-160H180v160Zm440 0h160v-160H620v160ZM180-180h160v-160H180v160Zm440 0h160v-160H620v160Z\"/>\n",
              "  </svg>\n",
              "    </button>\n",
              "\n",
              "  <style>\n",
              "    .colab-df-container {\n",
              "      display:flex;\n",
              "      gap: 12px;\n",
              "    }\n",
              "\n",
              "    .colab-df-convert {\n",
              "      background-color: #E8F0FE;\n",
              "      border: none;\n",
              "      border-radius: 50%;\n",
              "      cursor: pointer;\n",
              "      display: none;\n",
              "      fill: #1967D2;\n",
              "      height: 32px;\n",
              "      padding: 0 0 0 0;\n",
              "      width: 32px;\n",
              "    }\n",
              "\n",
              "    .colab-df-convert:hover {\n",
              "      background-color: #E2EBFA;\n",
              "      box-shadow: 0px 1px 2px rgba(60, 64, 67, 0.3), 0px 1px 3px 1px rgba(60, 64, 67, 0.15);\n",
              "      fill: #174EA6;\n",
              "    }\n",
              "\n",
              "    .colab-df-buttons div {\n",
              "      margin-bottom: 4px;\n",
              "    }\n",
              "\n",
              "    [theme=dark] .colab-df-convert {\n",
              "      background-color: #3B4455;\n",
              "      fill: #D2E3FC;\n",
              "    }\n",
              "\n",
              "    [theme=dark] .colab-df-convert:hover {\n",
              "      background-color: #434B5C;\n",
              "      box-shadow: 0px 1px 3px 1px rgba(0, 0, 0, 0.15);\n",
              "      filter: drop-shadow(0px 1px 2px rgba(0, 0, 0, 0.3));\n",
              "      fill: #FFFFFF;\n",
              "    }\n",
              "  </style>\n",
              "\n",
              "    <script>\n",
              "      const buttonEl =\n",
              "        document.querySelector('#df-f4a9ed48-0ffe-430c-9276-d5a655eee04a button.colab-df-convert');\n",
              "      buttonEl.style.display =\n",
              "        google.colab.kernel.accessAllowed ? 'block' : 'none';\n",
              "\n",
              "      async function convertToInteractive(key) {\n",
              "        const element = document.querySelector('#df-f4a9ed48-0ffe-430c-9276-d5a655eee04a');\n",
              "        const dataTable =\n",
              "          await google.colab.kernel.invokeFunction('convertToInteractive',\n",
              "                                                    [key], {});\n",
              "        if (!dataTable) return;\n",
              "\n",
              "        const docLinkHtml = 'Like what you see? Visit the ' +\n",
              "          '<a target=\"_blank\" href=https://colab.research.google.com/notebooks/data_table.ipynb>data table notebook</a>'\n",
              "          + ' to learn more about interactive tables.';\n",
              "        element.innerHTML = '';\n",
              "        dataTable['output_type'] = 'display_data';\n",
              "        await google.colab.output.renderOutput(dataTable, element);\n",
              "        const docLink = document.createElement('div');\n",
              "        docLink.innerHTML = docLinkHtml;\n",
              "        element.appendChild(docLink);\n",
              "      }\n",
              "    </script>\n",
              "  </div>\n",
              "\n",
              "\n",
              "<div id=\"df-df40d580-0b44-4de1-a1ed-0c5684e052ed\">\n",
              "  <button class=\"colab-df-quickchart\" onclick=\"quickchart('df-df40d580-0b44-4de1-a1ed-0c5684e052ed')\"\n",
              "            title=\"Suggest charts\"\n",
              "            style=\"display:none;\">\n",
              "\n",
              "<svg xmlns=\"http://www.w3.org/2000/svg\" height=\"24px\"viewBox=\"0 0 24 24\"\n",
              "     width=\"24px\">\n",
              "    <g>\n",
              "        <path d=\"M19 3H5c-1.1 0-2 .9-2 2v14c0 1.1.9 2 2 2h14c1.1 0 2-.9 2-2V5c0-1.1-.9-2-2-2zM9 17H7v-7h2v7zm4 0h-2V7h2v10zm4 0h-2v-4h2v4z\"/>\n",
              "    </g>\n",
              "</svg>\n",
              "  </button>\n",
              "\n",
              "<style>\n",
              "  .colab-df-quickchart {\n",
              "      --bg-color: #E8F0FE;\n",
              "      --fill-color: #1967D2;\n",
              "      --hover-bg-color: #E2EBFA;\n",
              "      --hover-fill-color: #174EA6;\n",
              "      --disabled-fill-color: #AAA;\n",
              "      --disabled-bg-color: #DDD;\n",
              "  }\n",
              "\n",
              "  [theme=dark] .colab-df-quickchart {\n",
              "      --bg-color: #3B4455;\n",
              "      --fill-color: #D2E3FC;\n",
              "      --hover-bg-color: #434B5C;\n",
              "      --hover-fill-color: #FFFFFF;\n",
              "      --disabled-bg-color: #3B4455;\n",
              "      --disabled-fill-color: #666;\n",
              "  }\n",
              "\n",
              "  .colab-df-quickchart {\n",
              "    background-color: var(--bg-color);\n",
              "    border: none;\n",
              "    border-radius: 50%;\n",
              "    cursor: pointer;\n",
              "    display: none;\n",
              "    fill: var(--fill-color);\n",
              "    height: 32px;\n",
              "    padding: 0;\n",
              "    width: 32px;\n",
              "  }\n",
              "\n",
              "  .colab-df-quickchart:hover {\n",
              "    background-color: var(--hover-bg-color);\n",
              "    box-shadow: 0 1px 2px rgba(60, 64, 67, 0.3), 0 1px 3px 1px rgba(60, 64, 67, 0.15);\n",
              "    fill: var(--button-hover-fill-color);\n",
              "  }\n",
              "\n",
              "  .colab-df-quickchart-complete:disabled,\n",
              "  .colab-df-quickchart-complete:disabled:hover {\n",
              "    background-color: var(--disabled-bg-color);\n",
              "    fill: var(--disabled-fill-color);\n",
              "    box-shadow: none;\n",
              "  }\n",
              "\n",
              "  .colab-df-spinner {\n",
              "    border: 2px solid var(--fill-color);\n",
              "    border-color: transparent;\n",
              "    border-bottom-color: var(--fill-color);\n",
              "    animation:\n",
              "      spin 1s steps(1) infinite;\n",
              "  }\n",
              "\n",
              "  @keyframes spin {\n",
              "    0% {\n",
              "      border-color: transparent;\n",
              "      border-bottom-color: var(--fill-color);\n",
              "      border-left-color: var(--fill-color);\n",
              "    }\n",
              "    20% {\n",
              "      border-color: transparent;\n",
              "      border-left-color: var(--fill-color);\n",
              "      border-top-color: var(--fill-color);\n",
              "    }\n",
              "    30% {\n",
              "      border-color: transparent;\n",
              "      border-left-color: var(--fill-color);\n",
              "      border-top-color: var(--fill-color);\n",
              "      border-right-color: var(--fill-color);\n",
              "    }\n",
              "    40% {\n",
              "      border-color: transparent;\n",
              "      border-right-color: var(--fill-color);\n",
              "      border-top-color: var(--fill-color);\n",
              "    }\n",
              "    60% {\n",
              "      border-color: transparent;\n",
              "      border-right-color: var(--fill-color);\n",
              "    }\n",
              "    80% {\n",
              "      border-color: transparent;\n",
              "      border-right-color: var(--fill-color);\n",
              "      border-bottom-color: var(--fill-color);\n",
              "    }\n",
              "    90% {\n",
              "      border-color: transparent;\n",
              "      border-bottom-color: var(--fill-color);\n",
              "    }\n",
              "  }\n",
              "</style>\n",
              "\n",
              "  <script>\n",
              "    async function quickchart(key) {\n",
              "      const quickchartButtonEl =\n",
              "        document.querySelector('#' + key + ' button');\n",
              "      quickchartButtonEl.disabled = true;  // To prevent multiple clicks.\n",
              "      quickchartButtonEl.classList.add('colab-df-spinner');\n",
              "      try {\n",
              "        const charts = await google.colab.kernel.invokeFunction(\n",
              "            'suggestCharts', [key], {});\n",
              "      } catch (error) {\n",
              "        console.error('Error during call to suggestCharts:', error);\n",
              "      }\n",
              "      quickchartButtonEl.classList.remove('colab-df-spinner');\n",
              "      quickchartButtonEl.classList.add('colab-df-quickchart-complete');\n",
              "    }\n",
              "    (() => {\n",
              "      let quickchartButtonEl =\n",
              "        document.querySelector('#df-df40d580-0b44-4de1-a1ed-0c5684e052ed button');\n",
              "      quickchartButtonEl.style.display =\n",
              "        google.colab.kernel.accessAllowed ? 'block' : 'none';\n",
              "    })();\n",
              "  </script>\n",
              "</div>\n",
              "    </div>\n",
              "  </div>\n"
            ],
            "application/vnd.google.colaboratory.intrinsic+json": {
              "type": "dataframe",
              "variable_name": "df",
              "summary": "{\n  \"name\": \"df\",\n  \"rows\": 57292,\n  \"fields\": [\n    {\n      \"column\": \"City\",\n      \"properties\": {\n        \"dtype\": \"category\",\n        \"num_unique_values\": 7,\n        \"samples\": [\n          \"Neuroburg\",\n          \"Ecoopolis\",\n          \"SolarisVille\"\n        ],\n        \"semantic_type\": \"\",\n        \"description\": \"\"\n      }\n    },\n    {\n      \"column\": \"Vehicle Type\",\n      \"properties\": {\n        \"dtype\": \"number\",\n        \"std\": 0.9386502069423169,\n        \"min\": 0.0,\n        \"max\": 3.0,\n        \"num_unique_values\": 4,\n        \"samples\": [\n          0.0,\n          1.0,\n          2.0\n        ],\n        \"semantic_type\": \"\",\n        \"description\": \"\"\n      }\n    },\n    {\n      \"column\": \"Weather\",\n      \"properties\": {\n        \"dtype\": \"number\",\n        \"std\": 1.0214142643682425,\n        \"min\": 0.0,\n        \"max\": 3.0,\n        \"num_unique_values\": 4,\n        \"samples\": [\n          2.0,\n          3.0,\n          1.0\n        ],\n        \"semantic_type\": \"\",\n        \"description\": \"\"\n      }\n    },\n    {\n      \"column\": \"Economic Condition\",\n      \"properties\": {\n        \"dtype\": \"number\",\n        \"std\": 1.2461638286379157,\n        \"min\": 0.0,\n        \"max\": 3.0,\n        \"num_unique_values\": 3,\n        \"samples\": [\n          1.0,\n          3.0,\n          0.0\n        ],\n        \"semantic_type\": \"\",\n        \"description\": \"\"\n      }\n    },\n    {\n      \"column\": \"Day Of Week\",\n      \"properties\": {\n        \"dtype\": \"number\",\n        \"std\": 1.9979656765288778,\n        \"min\": 0.0,\n        \"max\": 6.0,\n        \"num_unique_values\": 7,\n        \"samples\": [\n          3.0,\n          4.0,\n          2.0\n        ],\n        \"semantic_type\": \"\",\n        \"description\": \"\"\n      }\n    },\n    {\n      \"column\": \"Hour Of Day\",\n      \"properties\": {\n        \"dtype\": \"number\",\n        \"std\": 6.912094690346514,\n        \"min\": 0.0,\n        \"max\": 23.0,\n        \"num_unique_values\": 24,\n        \"samples\": [\n          9.0,\n          2.0,\n          16.0\n        ],\n        \"semantic_type\": \"\",\n        \"description\": \"\"\n      }\n    },\n    {\n      \"column\": \"Speed\",\n      \"properties\": {\n        \"dtype\": \"number\",\n        \"std\": 26.594577765499565,\n        \"min\": 7.9506,\n        \"max\": 163.0886,\n        \"num_unique_values\": 52873,\n        \"samples\": [\n          74.5476,\n          85.8693,\n          65.6586\n        ],\n        \"semantic_type\": \"\",\n        \"description\": \"\"\n      }\n    },\n    {\n      \"column\": \"Is Peak Hour\",\n      \"properties\": {\n        \"dtype\": \"number\",\n        \"std\": 0.3634631621296368,\n        \"min\": 0.0,\n        \"max\": 1.0,\n        \"num_unique_values\": 2,\n        \"samples\": [\n          1.0,\n          0.0\n        ],\n        \"semantic_type\": \"\",\n        \"description\": \"\"\n      }\n    },\n    {\n      \"column\": \"Random Event Occurred\",\n      \"properties\": {\n        \"dtype\": \"number\",\n        \"std\": 0.21843092138766446,\n        \"min\": 0.0,\n        \"max\": 1.0,\n        \"num_unique_values\": 2,\n        \"samples\": [\n          1.0,\n          0.0\n        ],\n        \"semantic_type\": \"\",\n        \"description\": \"\"\n      }\n    },\n    {\n      \"column\": \"Energy Consumption\",\n      \"properties\": {\n        \"dtype\": \"number\",\n        \"std\": 25.317039804035687,\n        \"min\": 5.6057,\n        \"max\": 187.1446,\n        \"num_unique_values\": 55426,\n        \"samples\": [\n          30.1639,\n          23.6788\n        ],\n        \"semantic_type\": \"\",\n        \"description\": \"\"\n      }\n    },\n    {\n      \"column\": \"Traffic Density\",\n      \"properties\": {\n        \"dtype\": \"number\",\n        \"std\": 0.2197573831346927,\n        \"min\": 0.0071,\n        \"max\": 2.3361,\n        \"num_unique_values\": 8740,\n        \"samples\": [\n          0.5691,\n          0.3866\n        ],\n        \"semantic_type\": \"\",\n        \"description\": \"\"\n      }\n    }\n  ]\n}"
            }
          },
          "metadata": {},
          "execution_count": 2
        }
      ]
    },
    {
      "cell_type": "code",
      "source": [
        "df.info()"
      ],
      "metadata": {
        "colab": {
          "base_uri": "https://localhost:8080/"
        },
        "id": "9ybniy40fkr5",
        "outputId": "3ed8aad5-f69d-487d-b39d-473d661f0c57"
      },
      "execution_count": 3,
      "outputs": [
        {
          "output_type": "stream",
          "name": "stdout",
          "text": [
            "<class 'pandas.core.frame.DataFrame'>\n",
            "RangeIndex: 57292 entries, 0 to 57291\n",
            "Data columns (total 11 columns):\n",
            " #   Column                 Non-Null Count  Dtype  \n",
            "---  ------                 --------------  -----  \n",
            " 0   City                   57292 non-null  object \n",
            " 1   Vehicle Type           57291 non-null  float64\n",
            " 2   Weather                57291 non-null  float64\n",
            " 3   Economic Condition     57291 non-null  float64\n",
            " 4   Day Of Week            57291 non-null  float64\n",
            " 5   Hour Of Day            57291 non-null  float64\n",
            " 6   Speed                  57291 non-null  float64\n",
            " 7   Is Peak Hour           57291 non-null  float64\n",
            " 8   Random Event Occurred  57291 non-null  float64\n",
            " 9   Energy Consumption     57291 non-null  float64\n",
            " 10  Traffic Density        57291 non-null  float64\n",
            "dtypes: float64(10), object(1)\n",
            "memory usage: 4.8+ MB\n"
          ]
        }
      ]
    },
    {
      "cell_type": "code",
      "source": [
        "#New dataframe\n",
        "new_df = df\n",
        "#Checking for null values\n",
        "print(new_df.isnull().sum())\n",
        "print(\"Missing values distribution: \")\n",
        "print(new_df.isnull().mean())"
      ],
      "metadata": {
        "colab": {
          "base_uri": "https://localhost:8080/"
        },
        "id": "1XmV6lLpfNk8",
        "outputId": "337307fb-3542-496b-9b3e-0399f4a28f47"
      },
      "execution_count": 4,
      "outputs": [
        {
          "output_type": "stream",
          "name": "stdout",
          "text": [
            "City                     0\n",
            "Vehicle Type             1\n",
            "Weather                  1\n",
            "Economic Condition       1\n",
            "Day Of Week              1\n",
            "Hour Of Day              1\n",
            "Speed                    1\n",
            "Is Peak Hour             1\n",
            "Random Event Occurred    1\n",
            "Energy Consumption       1\n",
            "Traffic Density          1\n",
            "dtype: int64\n",
            "Missing values distribution: \n",
            "City                     0.000000\n",
            "Vehicle Type             0.000017\n",
            "Weather                  0.000017\n",
            "Economic Condition       0.000017\n",
            "Day Of Week              0.000017\n",
            "Hour Of Day              0.000017\n",
            "Speed                    0.000017\n",
            "Is Peak Hour             0.000017\n",
            "Random Event Occurred    0.000017\n",
            "Energy Consumption       0.000017\n",
            "Traffic Density          0.000017\n",
            "dtype: float64\n"
          ]
        }
      ]
    },
    {
      "cell_type": "code",
      "source": [
        "# #Checking for duplicates\n",
        "print(new_df.duplicated().any())"
      ],
      "metadata": {
        "colab": {
          "base_uri": "https://localhost:8080/"
        },
        "id": "vzzekRlVfzyr",
        "outputId": "1f242a7d-1c8d-440b-d51b-406cc3aa312c"
      },
      "execution_count": 5,
      "outputs": [
        {
          "output_type": "stream",
          "name": "stdout",
          "text": [
            "False\n"
          ]
        }
      ]
    },
    {
      "cell_type": "code",
      "source": [
        "print(new_df.duplicated())\n",
        "print(new_df.shape)"
      ],
      "metadata": {
        "colab": {
          "base_uri": "https://localhost:8080/"
        },
        "id": "HcWR3e3bf0pr",
        "outputId": "0f7272a2-24e4-4235-ef3a-b285cae3b3a1"
      },
      "execution_count": 6,
      "outputs": [
        {
          "output_type": "stream",
          "name": "stdout",
          "text": [
            "0        False\n",
            "1        False\n",
            "2        False\n",
            "3        False\n",
            "4        False\n",
            "         ...  \n",
            "57287    False\n",
            "57288    False\n",
            "57289    False\n",
            "57290    False\n",
            "57291    False\n",
            "Length: 57292, dtype: bool\n",
            "(57292, 11)\n"
          ]
        }
      ]
    },
    {
      "cell_type": "code",
      "source": [
        "#Finding unique values in \"Vehicle Type\"\n",
        "print(new_df[\"Vehicle Type\"].unique())"
      ],
      "metadata": {
        "colab": {
          "base_uri": "https://localhost:8080/"
        },
        "id": "JmjhLzjzf3Wq",
        "outputId": "adbc6e15-f71a-4ef3-e934-2e1d254a7d5f"
      },
      "execution_count": 7,
      "outputs": [
        {
          "output_type": "stream",
          "name": "stdout",
          "text": [
            "[ 2.  0.  3.  1. nan]\n"
          ]
        }
      ]
    },
    {
      "cell_type": "code",
      "source": [
        "#Replacing string values with integer\n",
        "new_df[\"Vehicle Type\"].replace({\"Drone\":\"0\", \"Flying Car\":\"1\", \"Autonomous Vehicle\":\"2\", \"Car\":\"3\",\"A\":\"2\"}, inplace = True)\n",
        "print(new_df.head())"
      ],
      "metadata": {
        "colab": {
          "base_uri": "https://localhost:8080/"
        },
        "id": "q1Ygq8wfgX6b",
        "outputId": "0fdc0106-dab5-472f-ef30-188797cd53ed"
      },
      "execution_count": 8,
      "outputs": [
        {
          "output_type": "stream",
          "name": "stdout",
          "text": [
            "        City  Vehicle Type  Weather  Economic Condition  Day Of Week  \\\n",
            "0  Neuroburg           2.0      1.0                 1.0          3.0   \n",
            "1  Ecoopolis           0.0      2.0                 3.0          4.0   \n",
            "2   AquaCity           2.0      1.0                 0.0          6.0   \n",
            "3  TechHaven           2.0      0.0                 1.0          4.0   \n",
            "4  Ecoopolis           2.0      3.0                 1.0          1.0   \n",
            "\n",
            "   Hour Of Day     Speed  Is Peak Hour  Random Event Occurred  \\\n",
            "0         16.0  100.3904           0.0                    0.0   \n",
            "1          8.0   76.8000           1.0                    0.0   \n",
            "2         16.0   45.2176           0.0                    0.0   \n",
            "3         20.0   30.5179           0.0                    0.0   \n",
            "4         21.0   43.9222           0.0                    0.0   \n",
            "\n",
            "   Energy Consumption  Traffic Density  \n",
            "0             91.2640           0.0415  \n",
            "1             46.0753           0.1811  \n",
            "2             40.1934           0.4544  \n",
            "3             37.5562           0.0843  \n",
            "4             39.0420           0.0293  \n"
          ]
        }
      ]
    },
    {
      "cell_type": "code",
      "source": [
        "#Finding unique values in \"Region\"\n",
        "print(new_df[\"Weather\"].unique())"
      ],
      "metadata": {
        "colab": {
          "base_uri": "https://localhost:8080/"
        },
        "id": "vmIHkCzpg8sq",
        "outputId": "474ed97c-5fc7-4457-e299-deb14a875889"
      },
      "execution_count": 9,
      "outputs": [
        {
          "output_type": "stream",
          "name": "stdout",
          "text": [
            "[ 1.  2.  0.  3. nan]\n"
          ]
        }
      ]
    },
    {
      "cell_type": "code",
      "source": [
        "#Replacing string values with integer\n",
        "new_df[\"Weather\"].replace({\"Snowy\":\"0\", \"Solar Flare\":\"1\", \"Clear\":\"2\", \"Rainy\":\"3\",\"Electromagnetic Storm\":\"2\"}, inplace = True)\n",
        "print(new_df.head())"
      ],
      "metadata": {
        "colab": {
          "base_uri": "https://localhost:8080/"
        },
        "id": "QoZl26uZhH9T",
        "outputId": "06b47deb-0ccc-40ae-c090-9ec5852e5791"
      },
      "execution_count": 10,
      "outputs": [
        {
          "output_type": "stream",
          "name": "stdout",
          "text": [
            "        City  Vehicle Type  Weather  Economic Condition  Day Of Week  \\\n",
            "0  Neuroburg           2.0      1.0                 1.0          3.0   \n",
            "1  Ecoopolis           0.0      2.0                 3.0          4.0   \n",
            "2   AquaCity           2.0      1.0                 0.0          6.0   \n",
            "3  TechHaven           2.0      0.0                 1.0          4.0   \n",
            "4  Ecoopolis           2.0      3.0                 1.0          1.0   \n",
            "\n",
            "   Hour Of Day     Speed  Is Peak Hour  Random Event Occurred  \\\n",
            "0         16.0  100.3904           0.0                    0.0   \n",
            "1          8.0   76.8000           1.0                    0.0   \n",
            "2         16.0   45.2176           0.0                    0.0   \n",
            "3         20.0   30.5179           0.0                    0.0   \n",
            "4         21.0   43.9222           0.0                    0.0   \n",
            "\n",
            "   Energy Consumption  Traffic Density  \n",
            "0             91.2640           0.0415  \n",
            "1             46.0753           0.1811  \n",
            "2             40.1934           0.4544  \n",
            "3             37.5562           0.0843  \n",
            "4             39.0420           0.0293  \n"
          ]
        }
      ]
    },
    {
      "cell_type": "code",
      "source": [
        "#Finding unique values in \"Region\"\n",
        "print(new_df[\"Economic Condition\"].unique())"
      ],
      "metadata": {
        "colab": {
          "base_uri": "https://localhost:8080/"
        },
        "id": "e1zavmzZhgLL",
        "outputId": "c883778b-32f8-4b3d-f4c1-c68bb0da1e86"
      },
      "execution_count": 11,
      "outputs": [
        {
          "output_type": "stream",
          "name": "stdout",
          "text": [
            "[ 1.  3.  0. nan]\n"
          ]
        }
      ]
    },
    {
      "cell_type": "code",
      "source": [
        "#Replacing string values with integer\n",
        "new_df[\"Economic Condition\"].replace({\"Stable\":\"0\", \"Recession\":\"1\", \"Clear\":\"2\", \"Booming\":\"3\"}, inplace = True)\n",
        "print(new_df.head())"
      ],
      "metadata": {
        "colab": {
          "base_uri": "https://localhost:8080/"
        },
        "id": "0pA6t9RvhtBq",
        "outputId": "6cdc7ce8-f47f-41b0-f1f6-fcd3cbced7d2"
      },
      "execution_count": 12,
      "outputs": [
        {
          "output_type": "stream",
          "name": "stdout",
          "text": [
            "        City  Vehicle Type  Weather  Economic Condition  Day Of Week  \\\n",
            "0  Neuroburg           2.0      1.0                 1.0          3.0   \n",
            "1  Ecoopolis           0.0      2.0                 3.0          4.0   \n",
            "2   AquaCity           2.0      1.0                 0.0          6.0   \n",
            "3  TechHaven           2.0      0.0                 1.0          4.0   \n",
            "4  Ecoopolis           2.0      3.0                 1.0          1.0   \n",
            "\n",
            "   Hour Of Day     Speed  Is Peak Hour  Random Event Occurred  \\\n",
            "0         16.0  100.3904           0.0                    0.0   \n",
            "1          8.0   76.8000           1.0                    0.0   \n",
            "2         16.0   45.2176           0.0                    0.0   \n",
            "3         20.0   30.5179           0.0                    0.0   \n",
            "4         21.0   43.9222           0.0                    0.0   \n",
            "\n",
            "   Energy Consumption  Traffic Density  \n",
            "0             91.2640           0.0415  \n",
            "1             46.0753           0.1811  \n",
            "2             40.1934           0.4544  \n",
            "3             37.5562           0.0843  \n",
            "4             39.0420           0.0293  \n"
          ]
        }
      ]
    },
    {
      "cell_type": "code",
      "source": [
        "#Finding unique values in \"Region\"\n",
        "print(new_df[\"Day Of Week\"].unique())"
      ],
      "metadata": {
        "colab": {
          "base_uri": "https://localhost:8080/"
        },
        "id": "WoVTSL2Sh5OJ",
        "outputId": "34d8b104-1588-47fa-95a6-7509ad263890"
      },
      "execution_count": 13,
      "outputs": [
        {
          "output_type": "stream",
          "name": "stdout",
          "text": [
            "[ 3.  4.  6.  1.  5.  2.  0. nan]\n"
          ]
        }
      ]
    },
    {
      "cell_type": "code",
      "source": [
        "#Replacing string values with integer\n",
        "new_df[\"Day Of Week\"].replace({\"Sunday\":\"0\", \"Monday\":\"1\", \"Tuesday\":\"2\", \"Wednesday\":\"3\", \"Thursday\":\"4\", \"Friday\":\"5\", \"Saturday\":\"6\"}, inplace = True)\n",
        "print(new_df.head())"
      ],
      "metadata": {
        "colab": {
          "base_uri": "https://localhost:8080/"
        },
        "id": "6H1A8Uz9iAZa",
        "outputId": "f9fe59c7-41f1-498c-f034-72bbf2395aad"
      },
      "execution_count": 14,
      "outputs": [
        {
          "output_type": "stream",
          "name": "stdout",
          "text": [
            "        City  Vehicle Type  Weather  Economic Condition  Day Of Week  \\\n",
            "0  Neuroburg           2.0      1.0                 1.0          3.0   \n",
            "1  Ecoopolis           0.0      2.0                 3.0          4.0   \n",
            "2   AquaCity           2.0      1.0                 0.0          6.0   \n",
            "3  TechHaven           2.0      0.0                 1.0          4.0   \n",
            "4  Ecoopolis           2.0      3.0                 1.0          1.0   \n",
            "\n",
            "   Hour Of Day     Speed  Is Peak Hour  Random Event Occurred  \\\n",
            "0         16.0  100.3904           0.0                    0.0   \n",
            "1          8.0   76.8000           1.0                    0.0   \n",
            "2         16.0   45.2176           0.0                    0.0   \n",
            "3         20.0   30.5179           0.0                    0.0   \n",
            "4         21.0   43.9222           0.0                    0.0   \n",
            "\n",
            "   Energy Consumption  Traffic Density  \n",
            "0             91.2640           0.0415  \n",
            "1             46.0753           0.1811  \n",
            "2             40.1934           0.4544  \n",
            "3             37.5562           0.0843  \n",
            "4             39.0420           0.0293  \n"
          ]
        }
      ]
    },
    {
      "cell_type": "code",
      "source": [
        "#Describing data after preprocessing\n",
        "print(new_df.shape)\n",
        "print(new_df.head())"
      ],
      "metadata": {
        "colab": {
          "base_uri": "https://localhost:8080/"
        },
        "id": "pJ9pEDp0iZfQ",
        "outputId": "0c4bc53e-6f14-475b-9a35-c9031cba3218"
      },
      "execution_count": 15,
      "outputs": [
        {
          "output_type": "stream",
          "name": "stdout",
          "text": [
            "(57292, 11)\n",
            "        City  Vehicle Type  Weather  Economic Condition  Day Of Week  \\\n",
            "0  Neuroburg           2.0      1.0                 1.0          3.0   \n",
            "1  Ecoopolis           0.0      2.0                 3.0          4.0   \n",
            "2   AquaCity           2.0      1.0                 0.0          6.0   \n",
            "3  TechHaven           2.0      0.0                 1.0          4.0   \n",
            "4  Ecoopolis           2.0      3.0                 1.0          1.0   \n",
            "\n",
            "   Hour Of Day     Speed  Is Peak Hour  Random Event Occurred  \\\n",
            "0         16.0  100.3904           0.0                    0.0   \n",
            "1          8.0   76.8000           1.0                    0.0   \n",
            "2         16.0   45.2176           0.0                    0.0   \n",
            "3         20.0   30.5179           0.0                    0.0   \n",
            "4         21.0   43.9222           0.0                    0.0   \n",
            "\n",
            "   Energy Consumption  Traffic Density  \n",
            "0             91.2640           0.0415  \n",
            "1             46.0753           0.1811  \n",
            "2             40.1934           0.4544  \n",
            "3             37.5562           0.0843  \n",
            "4             39.0420           0.0293  \n"
          ]
        }
      ]
    },
    {
      "cell_type": "code",
      "source": [
        "print(new_df.isnull().sum())\n",
        "print(\"Missing values distribution\")\n",
        "print(new_df.isnull().mean())"
      ],
      "metadata": {
        "colab": {
          "base_uri": "https://localhost:8080/"
        },
        "id": "D68ojdjBhg7e",
        "outputId": "7f28ff48-33c7-4e3c-afc3-edc4118cc3d5"
      },
      "execution_count": 16,
      "outputs": [
        {
          "output_type": "stream",
          "name": "stdout",
          "text": [
            "City                     0\n",
            "Vehicle Type             1\n",
            "Weather                  1\n",
            "Economic Condition       1\n",
            "Day Of Week              1\n",
            "Hour Of Day              1\n",
            "Speed                    1\n",
            "Is Peak Hour             1\n",
            "Random Event Occurred    1\n",
            "Energy Consumption       1\n",
            "Traffic Density          1\n",
            "dtype: int64\n",
            "Missing values distribution\n",
            "City                     0.000000\n",
            "Vehicle Type             0.000017\n",
            "Weather                  0.000017\n",
            "Economic Condition       0.000017\n",
            "Day Of Week              0.000017\n",
            "Hour Of Day              0.000017\n",
            "Speed                    0.000017\n",
            "Is Peak Hour             0.000017\n",
            "Random Event Occurred    0.000017\n",
            "Energy Consumption       0.000017\n",
            "Traffic Density          0.000017\n",
            "dtype: float64\n"
          ]
        }
      ]
    },
    {
      "cell_type": "code",
      "source": [
        "new_df.Weather.value_counts()\n",
        "plt.figure(figsize=(6,6))\n",
        "sns.countplot(x='Weather', data=new_df)\n",
        "plt.title('Weather Label')\n",
        "plt.show()"
      ],
      "metadata": {
        "colab": {
          "base_uri": "https://localhost:8080/",
          "height": 564
        },
        "id": "e2uJeL59iiLT",
        "outputId": "b6af16c9-af52-4e8a-9307-1b1382bdefbf"
      },
      "execution_count": 17,
      "outputs": [
        {
          "output_type": "display_data",
          "data": {
            "text/plain": [
              "<Figure size 600x600 with 1 Axes>"
            ],
            "image/png": "[encoded data removed]"
          },
          "metadata": {}
        }
      ]
    },
    {
      "cell_type": "code",
      "source": [
        "from sklearn.datasets import make_classification\n",
        "X, y = make_classification(n_classes=2, class_sep=0.5,\n",
        "weights=[0.05, 0.95], n_informative=2, n_redundant=0, flip_y=0,\n",
        "n_features=2, n_clusters_per_class=1, n_samples=1000, random_state=10)"
      ],
      "metadata": {
        "id": "MPdLUWNmi7eS"
      },
      "execution_count": 18,
      "outputs": []
    },
    {
      "cell_type": "code",
      "source": [
        "from sklearn.model_selection import train_test_split\n",
        "\n",
        "# split into 70:30 ration\n",
        "X_train, X_test, y_train, y_test = train_test_split(X, y, test_size = 0.3, random_state = 0)"
      ],
      "metadata": {
        "id": "j7DQ6niZjPaS"
      },
      "execution_count": 19,
      "outputs": []
    },
    {
      "cell_type": "code",
      "source": [
        "from imblearn.over_sampling import SMOTE\n",
        "sm = SMOTE(random_state=42)\n",
        "X_res, y_res = sm.fit_resample(X_train, y_train)"
      ],
      "metadata": {
        "id": "kasoehA8jS_i"
      },
      "execution_count": 20,
      "outputs": []
    },
    {
      "cell_type": "code",
      "source": [
        "# describes info about train and test set\n",
        "print(\"Number transactions X_train dataset: \", X_train.shape)\n",
        "print(\"Number transactions y_train dataset: \", y_train.shape)\n",
        "print(\"Number transactions X_test dataset: \", X_test.shape)\n",
        "print(\"Number transactions y_test dataset: \", y_test.shape)"
      ],
      "metadata": {
        "id": "zoyKd99ejVez",
        "outputId": "ebacaf8a-4dcb-4030-be52-cf3bee4a2d42",
        "colab": {
          "base_uri": "https://localhost:8080/"
        }
      },
      "execution_count": 21,
      "outputs": [
        {
          "output_type": "stream",
          "name": "stdout",
          "text": [
            "Number transactions X_train dataset:  (700, 2)\n",
            "Number transactions y_train dataset:  (700,)\n",
            "Number transactions X_test dataset:  (300, 2)\n",
            "Number transactions y_test dataset:  (300,)\n"
          ]
        }
      ]
    },
    {
      "cell_type": "code",
      "source": [],
      "metadata": {
        "id": "YM2PqSISjYiC"
      },
      "execution_count": 21,
      "outputs": []
    }
  ]
}